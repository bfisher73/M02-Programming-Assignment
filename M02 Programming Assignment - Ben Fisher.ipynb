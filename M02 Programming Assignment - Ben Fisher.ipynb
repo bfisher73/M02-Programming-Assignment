{
 "cells": [
  {
   "cell_type": "code",
   "execution_count": 1,
   "id": "f6cd2db5",
   "metadata": {},
   "outputs": [
    {
     "name": "stdout",
     "output_type": "stream",
     "text": [
      "too high\n"
     ]
    }
   ],
   "source": [
    "#Problem 4.1\n",
    "secret = 5\n",
    "guess = 6\n",
    "if guess > secret:\n",
    "    print(\"too high\")\n",
    "elif guess < secret:\n",
    "    print(\"too low\")\n",
    "else:\n",
    "    print(\"just right\")"
   ]
  },
  {
   "cell_type": "code",
   "execution_count": 7,
   "id": "2e1f3f44",
   "metadata": {},
   "outputs": [
    {
     "name": "stdout",
     "output_type": "stream",
     "text": [
      "Item is a Watermelon.\n"
     ]
    }
   ],
   "source": [
    "#problem 4.2\n",
    "small = False\n",
    "green = True\n",
    "\n",
    "if small is True and green is True:\n",
    "    print(\"Item is a pea.\")\n",
    "elif small is True and green is False:\n",
    "    print(\"Item is a cherry.\")\n",
    "elif small is False and green is True:\n",
    "    print(\"Item is a Watermelon.\")\n",
    "else:\n",
    "    print(\"Item is a pumpkin.\")\n"
   ]
  },
  {
   "cell_type": "code",
   "execution_count": 10,
   "id": "e99d8db3",
   "metadata": {},
   "outputs": [
    {
     "name": "stdout",
     "output_type": "stream",
     "text": [
      "0\n",
      "1\n",
      "2\n",
      "3\n"
     ]
    }
   ],
   "source": [
    "#problem 6.1\n",
    "list = [3, 2, 1, 0]\n",
    "\n",
    "for list in range(0,4):\n",
    "    print(list)"
   ]
  },
  {
   "cell_type": "code",
   "execution_count": 12,
   "id": "baa074b3",
   "metadata": {},
   "outputs": [
    {
     "name": "stdout",
     "output_type": "stream",
     "text": [
      "too low\n",
      "too low\n",
      "too low\n",
      "too low\n",
      "too low\n",
      "too low\n",
      "found it!\n"
     ]
    }
   ],
   "source": [
    "#problem 6.2\n",
    "guess_me = 7\n",
    "number = 1\n",
    "\n",
    "while guess_me != number:\n",
    "    if number < guess_me:\n",
    "        print(\"too low\")\n",
    "        number += 1\n",
    "        if number == guess_me:\n",
    "            print(\"found it!\")\n",
    "    elif number > guess_me:\n",
    "        print(\"oops\")\n",
    "        number -= 1\n",
    "        if number == guess_me:\n",
    "            print(\"found it!\")\n",
    "    else:\n",
    "        print(\"found it!\")"
   ]
  },
  {
   "cell_type": "code",
   "execution_count": 15,
   "id": "0caa19aa",
   "metadata": {},
   "outputs": [
    {
     "name": "stdout",
     "output_type": "stream",
     "text": [
      "too low\n",
      "too low\n",
      "too low\n",
      "too low\n",
      "too low\n",
      "found it\n"
     ]
    }
   ],
   "source": [
    "#problem 6.3\n",
    "guess_me = 5\n",
    "\n",
    "for number in range(10):\n",
    "    if number < guess_me:\n",
    "        print(\"too low\")\n",
    "    elif number > guess_me:\n",
    "        print(\"oops\")\n",
    "        break\n",
    "    else:\n",
    "        print(\"found it\")\n",
    "        break\n"
   ]
  },
  {
   "cell_type": "code",
   "execution_count": null,
   "id": "a440d50e",
   "metadata": {},
   "outputs": [],
   "source": []
  }
 ],
 "metadata": {
  "kernelspec": {
   "display_name": "Python 3 (ipykernel)",
   "language": "python",
   "name": "python3"
  },
  "language_info": {
   "codemirror_mode": {
    "name": "ipython",
    "version": 3
   },
   "file_extension": ".py",
   "mimetype": "text/x-python",
   "name": "python",
   "nbconvert_exporter": "python",
   "pygments_lexer": "ipython3",
   "version": "3.11.5"
  }
 },
 "nbformat": 4,
 "nbformat_minor": 5
}
